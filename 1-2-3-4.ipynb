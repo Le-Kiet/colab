{
 "cells": [
  {
   "cell_type": "code",
   "execution_count": 26,
   "id": "1581bc6b",
   "metadata": {},
   "outputs": [],
   "source": [
    "import findspark\n",
    "findspark.init()\n",
    "import pyspark\n",
    "from pyspark.sql import SparkSession\n",
    "spark = SparkSession.builder.master(\"local\").getOrCreate()"
   ]
  },
  {
   "cell_type": "code",
   "execution_count": 27,
   "id": "dcb03be6",
   "metadata": {},
   "outputs": [],
   "source": [
    "transRDD = spark.sparkContext.textFile(\"trans240.csv\")\n",
    "custRDD =  spark.sparkContext.textFile(\"cust.csv\")"
   ]
  },
  {
   "cell_type": "code",
   "execution_count": 28,
   "id": "77342eda",
   "metadata": {},
   "outputs": [],
   "source": [
    "#1. For each month, show the number of distinct players, and the total cost, the results are sorted by month"
   ]
  },
  {
   "cell_type": "code",
   "execution_count": 29,
   "id": "d0583308",
   "metadata": {},
   "outputs": [],
   "source": [
    "kq = transRDD.map(lambda n: n.split(\",\")).map(lambda n: (n[1].split(\"-\")[0], float(n[3]))).reduceByKey(lambda n, m: n + m) \\\n",
    ".join(transRDD.map(lambda n: n.split(\",\")).map(lambda n: (n[1].split(\"-\")[0], n[2])).distinct().groupByKey().mapValues(len))"
   ]
  },
  {
   "cell_type": "code",
   "execution_count": 30,
   "id": "f0f5cdd3",
   "metadata": {},
   "outputs": [],
   "source": [
    "def thang_so(month):\n",
    "  months = {\n",
    "    \"Jan\": 1,\n",
    "    \"Feb\": 2,\n",
    "    \"Mar\": 3,\n",
    "    \"Apr\": 4,\n",
    "    \"May\": 5,\n",
    "    \"Jun\": 6,\n",
    "    \"Jul\": 7,\n",
    "    \"Aug\": 8,\n",
    "    \"Sep\": 9,\n",
    "    \"Oct\": 10,\n",
    "    \"Nov\": 11,\n",
    "    \"Dec\": 12\n",
    "  }\n",
    "  return months[month]\n",
    "temp = kq.map(lambda n: (thang_so(n[0]), (n[0], n[1][1], n[1][0])))"
   ]
  },
  {
   "cell_type": "code",
   "execution_count": 31,
   "id": "5508e46d",
   "metadata": {},
   "outputs": [
    {
     "data": {
      "text/plain": [
       "[('Jan', 9, 2088.2099999999996),\n",
       " ('Feb', 9, 2261.77),\n",
       " ('Mar', 9, 1727.3200000000002),\n",
       " ('Apr', 9, 1223.06),\n",
       " ('May', 10, 2709.75),\n",
       " ('Jun', 9, 1891.62),\n",
       " ('Jul', 8, 2550.51),\n",
       " ('Aug', 9, 1498.7),\n",
       " ('Sep', 8, 1444.2800000000002),\n",
       " ('Oct', 10, 3064.28),\n",
       " ('Nov', 8, 1682.6899999999998),\n",
       " ('Dec', 9, 2510.7900000000004)]"
      ]
     },
     "execution_count": 31,
     "metadata": {},
     "output_type": "execute_result"
    }
   ],
   "source": [
    "temp.sortByKey().map(lambda n: n[1]).collect()"
   ]
  },
  {
   "cell_type": "code",
   "execution_count": 7,
   "id": "50b524fc",
   "metadata": {},
   "outputs": [],
   "source": [
    "#2. For each month, show the name three youngest player, the results are sorted by the month"
   ]
  },
  {
   "cell_type": "code",
   "execution_count": 32,
   "id": "58c30097",
   "metadata": {},
   "outputs": [],
   "source": [
    "kq1 = transRDD.map(lambda n: n.split(\",\")).map(lambda n: (n[2], n[1].split('-')[0])) \\\n",
    ".join(custRDD.map(lambda n: n.split(\",\")).map(lambda n: (n[0], (n[1], int(n[3]))))) "
   ]
  },
  {
   "cell_type": "code",
   "execution_count": 33,
   "id": "bd66fb0e",
   "metadata": {},
   "outputs": [],
   "source": [
    "temp1 = kq1.map(lambda n: n[1]).distinct().groupByKey()\\\n",
    ".map(lambda n: (n[0], sorted(list(n[1]), key = lambda m: m[1])[:3]))"
   ]
  },
  {
   "cell_type": "code",
   "execution_count": 34,
   "id": "455b813d",
   "metadata": {},
   "outputs": [
    {
     "data": {
      "text/plain": [
       "[('Jan', [('Sherri', 34), ('Malcolm', 39), ('Patrick', 42)]),\n",
       " ('Feb', [('Malcolm', 39), ('Patrick', 42), ('Elsie', 43)]),\n",
       " ('Mar', [('Sherri', 34), ('Malcolm', 39), ('Elsie', 43)]),\n",
       " ('Apr', [('Sherri', 34), ('Malcolm', 39), ('Elsie', 43)]),\n",
       " ('May', [('Sherri', 34), ('Malcolm', 39), ('Patrick', 42)]),\n",
       " ('Jun', [('Sherri', 34), ('Malcolm', 39), ('Elsie', 43)]),\n",
       " ('Jul', [('Sherri', 34), ('Patrick', 42), ('Elsie', 43)]),\n",
       " ('Aug', [('Malcolm', 39), ('Patrick', 42), ('Elsie', 43)]),\n",
       " ('Sep', [('Malcolm', 39), ('Elsie', 43), ('Kristina', 55)]),\n",
       " ('Oct', [('Sherri', 34), ('Malcolm', 39), ('Patrick', 42)]),\n",
       " ('Nov', [('Sherri', 34), ('Malcolm', 39), ('Kristina', 55)]),\n",
       " ('Dec', [('Sherri', 34), ('Malcolm', 39), ('Patrick', 42)])]"
      ]
     },
     "execution_count": 34,
     "metadata": {},
     "output_type": "execute_result"
    }
   ],
   "source": [
    "temp1.map(lambda n: (thang_so(n[0]), n)).sortByKey().map(lambda n: n[1]).collect()"
   ]
  },
  {
   "cell_type": "code",
   "execution_count": 35,
   "id": "06dbd658",
   "metadata": {},
   "outputs": [],
   "source": [
    "#3. For each state, show the number of distinct players of each state, the results are sorted by the number of players"
   ]
  },
  {
   "cell_type": "code",
   "execution_count": 36,
   "id": "f97a8b48",
   "metadata": {},
   "outputs": [
    {
     "data": {
      "text/plain": [
       "[('Wisconsin', 1),\n",
       " ('Iowa', 1),\n",
       " ('Florida', 1),\n",
       " ('Utah', 1),\n",
       " ('New Jersey', 1),\n",
       " ('Louisiana', 1),\n",
       " ('Kentucky', 1),\n",
       " ('Oklahoma', 1),\n",
       " ('Hawaii', 2),\n",
       " ('Nebraska', 2),\n",
       " ('New York', 2),\n",
       " ('Minnesota', 2),\n",
       " ('Texas', 2),\n",
       " ('Arizona', 2),\n",
       " ('Georgia', 2),\n",
       " ('Colorado', 2),\n",
       " ('Virginia', 2),\n",
       " ('Massachusetts', 2),\n",
       " ('Tennessee', 3),\n",
       " ('Illinois', 3),\n",
       " ('South Carolina', 3),\n",
       " ('Ohio', 3),\n",
       " ('Nevada', 3),\n",
       " ('Pennsylvania', 3),\n",
       " ('Washington', 3),\n",
       " ('California', 6)]"
      ]
     },
     "execution_count": 36,
     "metadata": {},
     "output_type": "execute_result"
    }
   ],
   "source": [
    "transRDD.map(lambda n: n.split(\",\")).map(lambda n: (n[7], n[2])).distinct().groupByKey().mapValues(len).sortBy(lambda n: n[1]).collect()"
   ]
  },
  {
   "cell_type": "code",
   "execution_count": 37,
   "id": "5948882c",
   "metadata": {},
   "outputs": [],
   "source": [
    "#4. For each state, show the name of three oldest player in each state, the results are sorted by the state"
   ]
  },
  {
   "cell_type": "code",
   "execution_count": 38,
   "id": "7b3fb296",
   "metadata": {},
   "outputs": [],
   "source": [
    "kq2 = transRDD.map(lambda n: n.split(\",\")).map(lambda n: (n[2], n[7])) \\\n",
    ".join(custRDD.map(lambda n: n.split(\",\")).map(lambda n: (n[0], (n[1], int(n[3])))))"
   ]
  },
  {
   "cell_type": "code",
   "execution_count": 39,
   "id": "5ec901bf",
   "metadata": {},
   "outputs": [
    {
     "data": {
      "text/plain": [
       "[('Louisiana', [('Karen', 74)]),\n",
       " ('New York', [('Karen', 74), ('Patrick', 42)]),\n",
       " ('Nevada', [('Karen', 74), ('Gretchen', 66), ('Elsie', 43)]),\n",
       " ('Virginia', [('Karen', 74), ('Elsie', 43)]),\n",
       " ('Wisconsin', [('Sherri', 34)]),\n",
       " ('Illinois', [('Gretchen', 66), ('Hazel', 63), ('Malcolm', 39)]),\n",
       " ('Colorado', [('Gretchen', 66), ('Hazel', 63)]),\n",
       " ('Tennessee', [('Paige', 74), ('Hazel', 63), ('Kristina', 55)]),\n",
       " ('Hawaii', [('Dolores', 60), ('Kristina', 55)]),\n",
       " ('Nebraska', [('Hazel', 63), ('Kristina', 55)]),\n",
       " ('Washington', [('Hazel', 63), ('Dolores', 60), ('Kristina', 55)]),\n",
       " ('Oklahoma', [('Paige', 74)]),\n",
       " ('New Jersey', [('Hazel', 63)]),\n",
       " ('Texas', [('Gretchen', 66), ('Sherri', 34)]),\n",
       " ('California', [('Paige', 74), ('Hazel', 63), ('Dolores', 60)]),\n",
       " ('South Carolina', [('Karen', 74), ('Gretchen', 66), ('Dolores', 60)]),\n",
       " ('Arizona', [('Kristina', 55), ('Malcolm', 39)]),\n",
       " ('Ohio', [('Kristina', 55), ('Patrick', 42), ('Malcolm', 39)]),\n",
       " ('Pennsylvania', [('Kristina', 55), ('Elsie', 43), ('Patrick', 42)]),\n",
       " ('Georgia', [('Paige', 74), ('Hazel', 63)]),\n",
       " ('Massachusetts', [('Paige', 74), ('Dolores', 60)]),\n",
       " ('Minnesota', [('Elsie', 43), ('Malcolm', 39)]),\n",
       " ('Utah', [('Hazel', 63)]),\n",
       " ('Kentucky', [('Hazel', 63)]),\n",
       " ('Iowa', [('Patrick', 42)]),\n",
       " ('Florida', [('Patrick', 42)])]"
      ]
     },
     "execution_count": 39,
     "metadata": {},
     "output_type": "execute_result"
    }
   ],
   "source": [
    "kq2.map(lambda n: n[1]).distinct().groupByKey()\\\n",
    ".map(lambda n: (n[0], sorted(list(n[1]), key=lambda m: m[1], reverse=True)[:3])).collect()"
   ]
  },
  {
   "cell_type": "code",
   "execution_count": 40,
   "id": "9b2efe05",
   "metadata": {},
   "outputs": [],
   "source": [
    "#5. For each state, show the average age of players in each state, the results are sorted by the average age"
   ]
  },
  {
   "cell_type": "code",
   "execution_count": 41,
   "id": "194d36a4",
   "metadata": {},
   "outputs": [],
   "source": [
    "kq3 = transRDD.map(lambda n: n.split(\",\")).map(lambda n: (n[2], n[7])) \\\n",
    ".join(custRDD.map(lambda n: n.split(\",\")).map(lambda n: (n[0], int(n[3]))))"
   ]
  },
  {
   "cell_type": "code",
   "execution_count": 42,
   "id": "b4e9706f",
   "metadata": {},
   "outputs": [
    {
     "data": {
      "text/plain": [
       "[('Wisconsin', 34.0),\n",
       " ('Minnesota', 41.0),\n",
       " ('Iowa', 42.0),\n",
       " ('Florida', 42.0),\n",
       " ('Ohio', 45.333333333333336),\n",
       " ('Pennsylvania', 46.666666666666664),\n",
       " ('Arizona', 47.0),\n",
       " ('Texas', 50.0),\n",
       " ('California', 52.166666666666664),\n",
       " ('Illinois', 56.0),\n",
       " ('Hawaii', 57.5),\n",
       " ('New York', 58.0),\n",
       " ('Virginia', 58.5),\n",
       " ('Nebraska', 59.0),\n",
       " ('Washington', 59.333333333333336),\n",
       " ('Nevada', 61.0),\n",
       " ('New Jersey', 63.0),\n",
       " ('Utah', 63.0),\n",
       " ('Kentucky', 63.0),\n",
       " ('Tennessee', 64.0),\n",
       " ('Colorado', 64.5),\n",
       " ('South Carolina', 66.66666666666667),\n",
       " ('Massachusetts', 67.0),\n",
       " ('Georgia', 68.5),\n",
       " ('Oklahoma', 74.0),\n",
       " ('Louisiana', 74.0)]"
      ]
     },
     "execution_count": 42,
     "metadata": {},
     "output_type": "execute_result"
    }
   ],
   "source": [
    "kq3.map(lambda n: (n[1][0], (n[1][1], 1))).distinct() \\\n",
    ".reduceByKey(lambda n, m: (n[0] + m[0], n[1] + m[1])).map(lambda n: (n[0], n[1][0] / n[1][1])).sortBy(lambda n: n[1]).collect()"
   ]
  },
  {
   "cell_type": "code",
   "execution_count": null,
   "id": "d952917a",
   "metadata": {},
   "outputs": [],
   "source": []
  }
 ],
 "metadata": {
  "kernelspec": {
   "display_name": "Python 3 (ipykernel)",
   "language": "python",
   "name": "python3"
  },
  "language_info": {
   "codemirror_mode": {
    "name": "ipython",
    "version": 3
   },
   "file_extension": ".py",
   "mimetype": "text/x-python",
   "name": "python",
   "nbconvert_exporter": "python",
   "pygments_lexer": "ipython3",
   "version": "3.11.5"
  }
 },
 "nbformat": 4,
 "nbformat_minor": 5
}
